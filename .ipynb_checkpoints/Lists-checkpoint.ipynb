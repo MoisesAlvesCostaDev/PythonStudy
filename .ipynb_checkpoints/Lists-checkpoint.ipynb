{
 "cells": [
  {
   "cell_type": "markdown",
   "id": "49a60b59-3813-4329-bf5f-583dc5fe5676",
   "metadata": {},
   "source": [
    "# Lists\n",
    "Each element has a possesion (índice)\n",
    "First Element 0, Last element n-1"
   ]
  },
  {
   "cell_type": "code",
   "execution_count": 1,
   "id": "cb353951-d020-42af-8842-5aad9038139a",
   "metadata": {
    "tags": []
   },
   "outputs": [],
   "source": [
    "list1=[]\n",
    "list2 = list()"
   ]
  },
  {
   "cell_type": "code",
   "execution_count": 2,
   "id": "75e16ed2-ba2f-4bd1-82f1-f1ce745ab7d3",
   "metadata": {
    "tags": []
   },
   "outputs": [
    {
     "data": {
      "text/plain": [
       "list"
      ]
     },
     "execution_count": 2,
     "metadata": {},
     "output_type": "execute_result"
    }
   ],
   "source": [
    "type(list1)"
   ]
  },
  {
   "cell_type": "code",
   "execution_count": 3,
   "id": "993581ed-b5d3-4b44-85a6-828ddc4397ab",
   "metadata": {
    "tags": []
   },
   "outputs": [
    {
     "data": {
      "text/plain": [
       "list"
      ]
     },
     "execution_count": 3,
     "metadata": {},
     "output_type": "execute_result"
    }
   ],
   "source": [
    "type(list2)"
   ]
  },
  {
   "cell_type": "code",
   "execution_count": 4,
   "id": "3d773485-2888-4c68-9196-7abef8685957",
   "metadata": {
    "tags": []
   },
   "outputs": [
    {
     "data": {
      "text/plain": [
       "0"
      ]
     },
     "execution_count": 4,
     "metadata": {},
     "output_type": "execute_result"
    }
   ],
   "source": [
    "len(list1)"
   ]
  },
  {
   "cell_type": "code",
   "execution_count": 5,
   "id": "91cb8dce-9d99-4067-bbef-0e4cbe498926",
   "metadata": {
    "tags": []
   },
   "outputs": [],
   "source": [
    "list3=[23,56,2,-3,10,2,18,0,5]"
   ]
  },
  {
   "cell_type": "code",
   "execution_count": 6,
   "id": "305bdc85-8312-42fd-8359-f15147d0e08c",
   "metadata": {
    "tags": []
   },
   "outputs": [
    {
     "data": {
      "text/plain": [
       "9"
      ]
     },
     "execution_count": 6,
     "metadata": {},
     "output_type": "execute_result"
    }
   ],
   "source": [
    "len(list3)"
   ]
  },
  {
   "cell_type": "code",
   "execution_count": null,
   "id": "c00b1cbc-6605-466a-81d9-556269c7f476",
   "metadata": {},
   "outputs": [],
   "source": []
  }
 ],
 "metadata": {
  "kernelspec": {
   "display_name": "Python 3 (ipykernel)",
   "language": "python",
   "name": "python3"
  },
  "language_info": {
   "codemirror_mode": {
    "name": "ipython",
    "version": 3
   },
   "file_extension": ".py",
   "mimetype": "text/x-python",
   "name": "python",
   "nbconvert_exporter": "python",
   "pygments_lexer": "ipython3",
   "version": "3.11.5"
  }
 },
 "nbformat": 4,
 "nbformat_minor": 5
}
