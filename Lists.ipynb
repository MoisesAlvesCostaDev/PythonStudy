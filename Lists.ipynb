{
 "cells": [
  {
   "cell_type": "markdown",
   "id": "49a60b59-3813-4329-bf5f-583dc5fe5676",
   "metadata": {},
   "source": [
    "# Lists\n",
    "Each element has a possesion (índice)\n",
    "First Element 0, Last element n-1"
   ]
  },
  {
   "cell_type": "code",
   "execution_count": 1,
   "id": "cb353951-d020-42af-8842-5aad9038139a",
   "metadata": {
    "tags": []
   },
   "outputs": [],
   "source": [
    "list1=[]\n",
    "list2 = list()"
   ]
  },
  {
   "cell_type": "code",
   "execution_count": 2,
   "id": "75e16ed2-ba2f-4bd1-82f1-f1ce745ab7d3",
   "metadata": {
    "tags": []
   },
   "outputs": [
    {
     "data": {
      "text/plain": [
       "list"
      ]
     },
     "execution_count": 2,
     "metadata": {},
     "output_type": "execute_result"
    }
   ],
   "source": [
    "type(list1)"
   ]
  },
  {
   "cell_type": "code",
   "execution_count": 3,
   "id": "993581ed-b5d3-4b44-85a6-828ddc4397ab",
   "metadata": {
    "tags": []
   },
   "outputs": [
    {
     "data": {
      "text/plain": [
       "list"
      ]
     },
     "execution_count": 3,
     "metadata": {},
     "output_type": "execute_result"
    }
   ],
   "source": [
    "type(list2)"
   ]
  },
  {
   "cell_type": "code",
   "execution_count": 4,
   "id": "3d773485-2888-4c68-9196-7abef8685957",
   "metadata": {
    "tags": []
   },
   "outputs": [
    {
     "data": {
      "text/plain": [
       "0"
      ]
     },
     "execution_count": 4,
     "metadata": {},
     "output_type": "execute_result"
    }
   ],
   "source": [
    "len(list1)"
   ]
  },
  {
   "cell_type": "code",
   "execution_count": 5,
   "id": "91cb8dce-9d99-4067-bbef-0e4cbe498926",
   "metadata": {
    "tags": []
   },
   "outputs": [],
   "source": [
    "list3=[23,56,2,-3,10,2,18,0,5]"
   ]
  },
  {
   "cell_type": "code",
   "execution_count": 6,
   "id": "305bdc85-8312-42fd-8359-f15147d0e08c",
   "metadata": {
    "tags": []
   },
   "outputs": [
    {
     "data": {
      "text/plain": [
       "9"
      ]
     },
     "execution_count": 6,
     "metadata": {},
     "output_type": "execute_result"
    }
   ],
   "source": [
    "len(list3)"
   ]
  },
  {
   "cell_type": "code",
   "execution_count": 7,
   "id": "c00b1cbc-6605-466a-81d9-556269c7f476",
   "metadata": {
    "tags": []
   },
   "outputs": [],
   "source": [
    "list4=[\"Rodrigo\", \"Pyton\", \"Puc Minas\", \"Ciência de dados e big data\"]"
   ]
  },
  {
   "cell_type": "code",
   "execution_count": 8,
   "id": "8bf8333d-9f56-43bf-8a92-af8f0b06c14e",
   "metadata": {
    "tags": []
   },
   "outputs": [
    {
     "data": {
      "text/plain": [
       "['Rodrigo', 'Pyton', 'Puc Minas', 'Ciência de dados e big data']"
      ]
     },
     "execution_count": 8,
     "metadata": {},
     "output_type": "execute_result"
    }
   ],
   "source": [
    "list4"
   ]
  },
  {
   "cell_type": "code",
   "execution_count": 9,
   "id": "ca09f126-0a9d-40ec-b5e0-ec612279550f",
   "metadata": {
    "tags": []
   },
   "outputs": [],
   "source": [
    "list5 = [True, True, False, True, False]"
   ]
  },
  {
   "cell_type": "code",
   "execution_count": 10,
   "id": "4a0c538f-3344-46a1-8ba5-2382bb52eb2a",
   "metadata": {
    "tags": []
   },
   "outputs": [
    {
     "data": {
      "text/plain": [
       "[True, True, False, True, False]"
      ]
     },
     "execution_count": 10,
     "metadata": {},
     "output_type": "execute_result"
    }
   ],
   "source": [
    "list5"
   ]
  },
  {
   "cell_type": "code",
   "execution_count": 17,
   "id": "56dd74d5-3614-4457-b002-3f4d16db615e",
   "metadata": {
    "tags": []
   },
   "outputs": [],
   "source": [
    "list6 = [1,2, 5.555, \"teste\", [1,\"A\", 1.0]]"
   ]
  },
  {
   "cell_type": "code",
   "execution_count": 18,
   "id": "2a9d2594-8ad9-45df-81e6-73ba9f8de5a5",
   "metadata": {
    "tags": []
   },
   "outputs": [
    {
     "data": {
      "text/plain": [
       "[1, 2, 5.555, 'teste', [1, 'A', 1.0]]"
      ]
     },
     "execution_count": 18,
     "metadata": {},
     "output_type": "execute_result"
    }
   ],
   "source": [
    "list6"
   ]
  },
  {
   "cell_type": "code",
   "execution_count": 20,
   "id": "2242598b-8737-4e1e-acc1-5aa511c2d686",
   "metadata": {
    "tags": []
   },
   "outputs": [
    {
     "data": {
      "text/plain": [
       "'A'"
      ]
     },
     "execution_count": 20,
     "metadata": {},
     "output_type": "execute_result"
    }
   ],
   "source": [
    "list6[-1][1]"
   ]
  },
  {
   "cell_type": "code",
   "execution_count": 25,
   "id": "1a667e62-47a0-48c4-9bc3-1a1c171bedf7",
   "metadata": {
    "tags": []
   },
   "outputs": [
    {
     "data": {
      "text/plain": [
       "'A'"
      ]
     },
     "execution_count": 25,
     "metadata": {},
     "output_type": "execute_result"
    }
   ],
   "source": [
    "list6[4][1]"
   ]
  },
  {
   "cell_type": "code",
   "execution_count": 27,
   "id": "158a742c-e645-45f1-94de-2c1fd715ae35",
   "metadata": {
    "tags": []
   },
   "outputs": [],
   "source": [
    "list6[0] = 50"
   ]
  },
  {
   "cell_type": "code",
   "execution_count": 29,
   "id": "dc47cf0f-c44e-4cf3-a4c8-34a55e294351",
   "metadata": {
    "tags": []
   },
   "outputs": [
    {
     "data": {
      "text/plain": [
       "50"
      ]
     },
     "execution_count": 29,
     "metadata": {},
     "output_type": "execute_result"
    }
   ],
   "source": [
    "list6[0]"
   ]
  },
  {
   "cell_type": "code",
   "execution_count": 30,
   "id": "4fa2aef3-7e74-47fb-82c8-b70aadabdea7",
   "metadata": {
    "tags": []
   },
   "outputs": [
    {
     "data": {
      "text/plain": [
       "[50, 2, 5.555, 'teste', [1, 'A', 1.0], 10]"
      ]
     },
     "execution_count": 30,
     "metadata": {},
     "output_type": "execute_result"
    }
   ],
   "source": [
    "list6.append(10)\n",
    "list6"
   ]
  },
  {
   "cell_type": "code",
   "execution_count": 31,
   "id": "12f9fc0a-b861-4d4e-a35d-32e14631641b",
   "metadata": {
    "tags": []
   },
   "outputs": [
    {
     "data": {
      "text/plain": [
       "[23, 56, 2, -3, 10, 2, 18, 0, 5]"
      ]
     },
     "execution_count": 31,
     "metadata": {},
     "output_type": "execute_result"
    }
   ],
   "source": [
    "list3"
   ]
  },
  {
   "cell_type": "code",
   "execution_count": 32,
   "id": "e9176d0c-8b71-48af-a775-fad2d92348a9",
   "metadata": {
    "tags": []
   },
   "outputs": [],
   "source": [
    "list3.clear()"
   ]
  },
  {
   "cell_type": "code",
   "execution_count": 33,
   "id": "b3a31e1d-cb8d-4e8f-93a9-06d51da0d69d",
   "metadata": {
    "tags": []
   },
   "outputs": [
    {
     "data": {
      "text/plain": [
       "[]"
      ]
     },
     "execution_count": 33,
     "metadata": {},
     "output_type": "execute_result"
    }
   ],
   "source": [
    "list3"
   ]
  },
  {
   "cell_type": "code",
   "execution_count": 34,
   "id": "168df054-6163-4e0f-bc2b-da544f1f728f",
   "metadata": {
    "tags": []
   },
   "outputs": [
    {
     "data": {
      "text/plain": [
       "[50, 2, 5.555, 'teste', [1, 'A', 1.0], 10]"
      ]
     },
     "execution_count": 34,
     "metadata": {},
     "output_type": "execute_result"
    }
   ],
   "source": [
    "newList6 = list6.copy()\n",
    "newList6"
   ]
  },
  {
   "cell_type": "code",
   "execution_count": 37,
   "id": "f4a9c84e-6fe2-48e3-a586-b0d4d2039b4b",
   "metadata": {
    "tags": []
   },
   "outputs": [
    {
     "data": {
      "text/plain": [
       "[50, 'old', 'Novo', 'Novo', 2, 5.555, 'teste', [1, 'A', 1.0], 10]"
      ]
     },
     "execution_count": 37,
     "metadata": {},
     "output_type": "execute_result"
    }
   ],
   "source": [
    "newList6.insert(1,\"old\")\n",
    "newList6"
   ]
  },
  {
   "cell_type": "code",
   "execution_count": 42,
   "id": "2aac9154-a3ea-43f1-ba24-0f972ec9eb6c",
   "metadata": {
    "tags": []
   },
   "outputs": [
    {
     "data": {
      "text/plain": [
       "[-3, 0, 2, 2, 5, 10, 18, 23, 56]"
      ]
     },
     "execution_count": 42,
     "metadata": {},
     "output_type": "execute_result"
    }
   ],
   "source": [
    "list3=[23,56,2,-3,10,2,18,0,5]\n",
    "list3.sort()\n",
    "list3"
   ]
  },
  {
   "cell_type": "code",
   "execution_count": 43,
   "id": "0b7823c9-c154-46d9-a3fd-0f2f1f540f4b",
   "metadata": {
    "tags": []
   },
   "outputs": [
    {
     "data": {
      "text/plain": [
       "1"
      ]
     },
     "execution_count": 43,
     "metadata": {},
     "output_type": "execute_result"
    }
   ],
   "source": [
    "list3.index(0)"
   ]
  },
  {
   "cell_type": "code",
   "execution_count": 44,
   "id": "6f424555-41e4-45d0-b044-b055dfb61512",
   "metadata": {
    "tags": []
   },
   "outputs": [
    {
     "data": {
      "text/plain": [
       "[-3, 2, 2, 5, 10, 18, 23, 56]"
      ]
     },
     "execution_count": 44,
     "metadata": {},
     "output_type": "execute_result"
    }
   ],
   "source": [
    "list3.pop(list3.index(0))\n",
    "list3"
   ]
  },
  {
   "cell_type": "code",
   "execution_count": null,
   "id": "61ddd1ae-2beb-4406-982e-08d6c3d67bdc",
   "metadata": {},
   "outputs": [],
   "source": []
  }
 ],
 "metadata": {
  "kernelspec": {
   "display_name": "Python 3 (ipykernel)",
   "language": "python",
   "name": "python3"
  },
  "language_info": {
   "codemirror_mode": {
    "name": "ipython",
    "version": 3
   },
   "file_extension": ".py",
   "mimetype": "text/x-python",
   "name": "python",
   "nbconvert_exporter": "python",
   "pygments_lexer": "ipython3",
   "version": "3.11.5"
  }
 },
 "nbformat": 4,
 "nbformat_minor": 5
}
